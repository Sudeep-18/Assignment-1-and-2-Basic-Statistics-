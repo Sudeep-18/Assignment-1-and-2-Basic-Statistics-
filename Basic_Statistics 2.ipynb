{
 "cells": [
  {
   "cell_type": "code",
   "execution_count": 1,
   "id": "657bb248",
   "metadata": {},
   "outputs": [],
   "source": [
    "import pandas as pd\n",
    "import numpy as np\n",
    "from scipy import stats"
   ]
  },
  {
   "cell_type": "code",
   "execution_count": 2,
   "id": "fc89bb5e",
   "metadata": {},
   "outputs": [],
   "source": [
    "import matplotlib.pyplot as plt\n",
    "import seaborn as sns\n",
    "import warnings \n",
    "warnings.filterwarnings('ignore')"
   ]
  },
  {
   "cell_type": "markdown",
   "id": "66301ce2",
   "metadata": {},
   "source": [
    "# SET 1"
   ]
  },
  {
   "cell_type": "markdown",
   "id": "0737c7cc",
   "metadata": {},
   "source": [
    "\t1. Look at the data given below. Plot the data, find the outliers and find out  μ,σ,σ^2"
   ]
  },
  {
   "cell_type": "code",
   "execution_count": 3,
   "id": "6a5cbdb2",
   "metadata": {},
   "outputs": [],
   "source": [
    "lst=[24.23,\n",
    "25.53,\n",
    "25.41,\n",
    "24.14,\n",
    "29.62,\n",
    "28.25,\n",
    "25.81,\n",
    "24.39,\n",
    "40.26,\n",
    "32.95,\n",
    "91.36,\n",
    "25.99,\n",
    "39.42,\n",
    "26.71,\n",
    "35.00]\n"
   ]
  },
  {
   "cell_type": "code",
   "execution_count": 4,
   "id": "08d5e505",
   "metadata": {},
   "outputs": [
    {
     "data": {
      "text/plain": [
       "33.27133333333333"
      ]
     },
     "execution_count": 4,
     "metadata": {},
     "output_type": "execute_result"
    }
   ],
   "source": [
    "np.mean(lst)"
   ]
  },
  {
   "cell_type": "code",
   "execution_count": 5,
   "id": "7e52bb2f",
   "metadata": {},
   "outputs": [
    {
     "data": {
      "text/plain": [
       "268.00350488888887"
      ]
     },
     "execution_count": 5,
     "metadata": {},
     "output_type": "execute_result"
    }
   ],
   "source": [
    "np.var(lst)"
   ]
  },
  {
   "cell_type": "code",
   "execution_count": 6,
   "id": "6a4394ff",
   "metadata": {},
   "outputs": [
    {
     "data": {
      "text/plain": [
       "16.370812590976932"
      ]
     },
     "execution_count": 6,
     "metadata": {},
     "output_type": "execute_result"
    }
   ],
   "source": [
    "np.std(lst)"
   ]
  },
  {
   "cell_type": "code",
   "execution_count": 7,
   "id": "d9fced2b",
   "metadata": {},
   "outputs": [
    {
     "data": {
      "text/plain": [
       "<AxesSubplot:>"
      ]
     },
     "execution_count": 7,
     "metadata": {},
     "output_type": "execute_result"
    },
    {
     "data": {
      "image/png": "[encoded data removed]",
      "text/plain": [
       "<Figure size 640x480 with 1 Axes>"
      ]
     },
     "metadata": {},
     "output_type": "display_data"
    }
   ],
   "source": [
    "sns.boxplot(lst)"
   ]
  },
  {
   "cell_type": "code",
   "execution_count": 8,
   "id": "5020c29f",
   "metadata": {},
   "outputs": [],
   "source": [
    "lst.sort()"
   ]
  },
  {
   "cell_type": "code",
   "execution_count": 9,
   "id": "1f95af71",
   "metadata": {},
   "outputs": [
    {
     "name": "stdout",
     "output_type": "stream",
     "text": [
      "[24.14, 24.23, 24.39, 25.41, 25.53, 25.81, 25.99, 26.71, 28.25, 29.62, 32.95, 35.0, 39.42, 40.26, 91.36]\n"
     ]
    }
   ],
   "source": [
    "print(lst)"
   ]
  },
  {
   "cell_type": "code",
   "execution_count": 10,
   "id": "34f35c7e",
   "metadata": {},
   "outputs": [],
   "source": [
    "q1,q3= np.percentile(lst,[25,75])"
   ]
  },
  {
   "cell_type": "code",
   "execution_count": 11,
   "id": "49370218",
   "metadata": {},
   "outputs": [
    {
     "name": "stdout",
     "output_type": "stream",
     "text": [
      "25.47 33.975\n"
     ]
    }
   ],
   "source": [
    "print(q1,q3)"
   ]
  },
  {
   "cell_type": "code",
   "execution_count": 12,
   "id": "a54ded4c",
   "metadata": {},
   "outputs": [
    {
     "name": "stdout",
     "output_type": "stream",
     "text": [
      "8.505000000000003\n"
     ]
    }
   ],
   "source": [
    "iqr = q3-q1\n",
    "print(iqr)"
   ]
  },
  {
   "cell_type": "code",
   "execution_count": 13,
   "id": "134ed07b",
   "metadata": {},
   "outputs": [
    {
     "name": "stdout",
     "output_type": "stream",
     "text": [
      "12.712499999999995 46.7325\n"
     ]
    }
   ],
   "source": [
    "lower_fence=q1-(1.5*iqr)\n",
    "higher_fence=q3+(1.5*iqr)\n",
    "print(lower_fence,higher_fence)"
   ]
  },
  {
   "cell_type": "markdown",
   "id": "2e006754",
   "metadata": {},
   "source": [
    "# SET 2"
   ]
  },
  {
   "cell_type": "markdown",
   "id": "d605443a",
   "metadata": {},
   "source": [
    "1.\tThe time required for servicing transmissions is normally distributed with  = 45 minutes and  = 8 minutes. The service manager plans to have work begin on the transmission of a customer’s car 10 minutes after the car is dropped off and the customer is told that the car will be ready within 1 hour from drop-off. What is the probability that the service manager cannot meet his commitment? "
   ]
  },
  {
   "cell_type": "code",
   "execution_count": 14,
   "id": "d5c13433",
   "metadata": {},
   "outputs": [
    {
     "data": {
      "text/plain": [
       "0.26598552904870054"
      ]
     },
     "execution_count": 14,
     "metadata": {},
     "output_type": "execute_result"
    }
   ],
   "source": [
    "1-stats.norm.cdf(60,loc=55,scale=8)"
   ]
  },
  {
   "cell_type": "markdown",
   "id": "df3d5842",
   "metadata": {},
   "source": [
    "2.\tThe current age (in years) of 400 clerical employees at an insurance claims processing center is normally distributed with mean  = 38 and Standard deviation  =6. For each statement below, please specify True/False. If false, briefly explain why.\n",
    "A.\tMore employees at the processing center are older than 44 than between 38 and 44.\n"
   ]
  },
  {
   "cell_type": "code",
   "execution_count": 15,
   "id": "ba6e4e78",
   "metadata": {},
   "outputs": [
    {
     "data": {
      "text/plain": [
       "0.15865525393145707"
      ]
     },
     "execution_count": 15,
     "metadata": {},
     "output_type": "execute_result"
    }
   ],
   "source": [
    "1-stats.norm.cdf(44,loc=38,scale=6 )"
   ]
  },
  {
   "cell_type": "code",
   "execution_count": 16,
   "id": "7d0975c9",
   "metadata": {},
   "outputs": [
    {
     "data": {
      "text/plain": [
       "0.3413447460685429"
      ]
     },
     "execution_count": 16,
     "metadata": {},
     "output_type": "execute_result"
    }
   ],
   "source": [
    "a = stats.norm.cdf(44,loc=38,scale=6)\n",
    "b= stats.norm.cdf(38,loc=38,scale=6)\n",
    "a-b"
   ]
  },
  {
   "cell_type": "markdown",
   "id": "3be50232",
   "metadata": {},
   "source": [
    "4.\tLet X ~ N(100, 202). Find two values, a and b, symmetric about the mean, such that the probability of the random variable taking a value between them is 0.99. "
   ]
  },
  {
   "cell_type": "code",
   "execution_count": 17,
   "id": "5ee8f204",
   "metadata": {},
   "outputs": [
    {
     "data": {
      "text/plain": [
       "(48.48341392902199, 151.516586070978)"
      ]
     },
     "execution_count": 17,
     "metadata": {},
     "output_type": "execute_result"
    }
   ],
   "source": [
    "stats.norm.interval(0.99,loc=100,scale=20)"
   ]
  },
  {
   "cell_type": "markdown",
   "id": "cda4545e",
   "metadata": {},
   "source": [
    "5.\tConsider a company that has two different divisions. The annual profits from the two divisions are independent and have distributions Profit1 ~ N(5, 32) and Profit2 ~ N(7, 42) respectively. Both the profits are in $ Million. Answer the following questions about the total profit of the company in Rupees. Assume that $1 = Rs. 45\n",
    "A.\tSpecify a Rupee range (centered on the mean) such that it contains 95% probability for the annual profit of the company."
   ]
  },
  {
   "cell_type": "code",
   "execution_count": 18,
   "id": "1faca273",
   "metadata": {},
   "outputs": [
    {
     "name": "stdout",
     "output_type": "stream",
     "text": [
      "Mean profit in Rs: 540 Milion\n",
      "SD 225.0 Milion\n"
     ]
    }
   ],
   "source": [
    "mean = 5+7\n",
    "print('Mean profit in Rs:',mean*45,'Milion')\n",
    "sd = np.sqrt((9)+(16))\n",
    "print('SD',sd*45,\"Milion\")\n"
   ]
  },
  {
   "cell_type": "code",
   "execution_count": 19,
   "id": "02228d5d",
   "metadata": {},
   "outputs": [
    {
     "name": "stdout",
     "output_type": "stream",
     "text": [
      "Range is Rs (99.00810347848784, 980.9918965215122) in milions\n"
     ]
    }
   ],
   "source": [
    "Range = stats.norm.interval(0.95,540,225)\n",
    "print('Range is Rs',Range,'in milions')"
   ]
  },
  {
   "cell_type": "markdown",
   "id": "b1bb6994",
   "metadata": {},
   "source": [
    "B.Specify the 5th percentile of profit (in Rupees) for the company"
   ]
  },
  {
   "cell_type": "code",
   "execution_count": 20,
   "id": "3b2a285c",
   "metadata": {},
   "outputs": [
    {
     "name": "stdout",
     "output_type": "stream",
     "text": [
      "5th percentile in milion is  169.875\n"
     ]
    }
   ],
   "source": [
    "X = 540 + (-1.645)* (225)  # from z table 5 th percentile = -1.645\n",
    "print('5th percentile in milion is ',X)"
   ]
  },
  {
   "cell_type": "markdown",
   "id": "5052e951",
   "metadata": {},
   "source": [
    "C.\tWhich of the two divisions has a larger probability of making a loss in a given year?"
   ]
  },
  {
   "cell_type": "code",
   "execution_count": 21,
   "id": "107634fc",
   "metadata": {},
   "outputs": [
    {
     "data": {
      "text/plain": [
       "0.0477903522728147"
      ]
     },
     "execution_count": 21,
     "metadata": {},
     "output_type": "execute_result"
    }
   ],
   "source": [
    "stats.norm.cdf(0,5,3)"
   ]
  },
  {
   "cell_type": "code",
   "execution_count": 22,
   "id": "cfa7c7d5",
   "metadata": {},
   "outputs": [
    {
     "data": {
      "text/plain": [
       "0.040059156863817086"
      ]
     },
     "execution_count": 22,
     "metadata": {},
     "output_type": "execute_result"
    }
   ],
   "source": [
    "stats.norm.cdf(0,7,4 )"
   ]
  },
  {
   "cell_type": "markdown",
   "id": "1ac56fd5",
   "metadata": {},
   "source": [
    "# SET 3"
   ]
  },
  {
   "cell_type": "markdown",
   "id": "2f7e5d4c",
   "metadata": {},
   "source": [
    "8.\tHow many randomly selected employers (minimum number) must we contact in order to guarantee a margin of error of no more than 4% (at 95% confidence)?"
   ]
  },
  {
   "cell_type": "markdown",
   "id": "b98be102",
   "metadata": {},
   "source": [
    "For 95% ci z = 1.96"
   ]
  },
  {
   "cell_type": "code",
   "execution_count": 23,
   "id": "ad7fa02b",
   "metadata": {},
   "outputs": [
    {
     "data": {
      "text/plain": [
       "600.25"
      ]
     },
     "execution_count": 23,
     "metadata": {},
     "output_type": "execute_result"
    }
   ],
   "source": [
    "#N= ((1.96/0.04)**2) *((0.5)(1-0.5))\n",
    "i = (1.96/0.04)**2 \n",
    "n= i*(0.5)**2\n",
    "n"
   ]
  },
  {
   "cell_type": "markdown",
   "id": "3e02a538",
   "metadata": {},
   "source": [
    "9.\tSuppose we want the above margin of error to be based on a 98% confidence level. What sample size (minimum) must we now use?"
   ]
  },
  {
   "cell_type": "markdown",
   "id": "fb27edbe",
   "metadata": {},
   "source": [
    "For 98% CI z= 2.32"
   ]
  },
  {
   "cell_type": "markdown",
   "id": "525e99d5",
   "metadata": {},
   "source": [
    " Sample size   n = [zα/2  ]2.p^(1-p^) / E2."
   ]
  },
  {
   "cell_type": "code",
   "execution_count": 24,
   "id": "5a037af0",
   "metadata": {},
   "outputs": [],
   "source": [
    "n= ((2.32)**2*(0.5*0.5))/(0.04*0.04)"
   ]
  },
  {
   "cell_type": "code",
   "execution_count": 25,
   "id": "23325c2c",
   "metadata": {},
   "outputs": [
    {
     "data": {
      "text/plain": [
       "840.9999999999999"
      ]
     },
     "execution_count": 25,
     "metadata": {},
     "output_type": "execute_result"
    }
   ],
   "source": [
    "n"
   ]
  },
  {
   "cell_type": "markdown",
   "id": "f61599fd",
   "metadata": {},
   "source": [
    " # SET 4"
   ]
  },
  {
   "cell_type": "markdown",
   "id": "2334c860",
   "metadata": {},
   "source": [
    "3.\tAuditors at a small community bank randomly sample 100 withdrawal transactions made during the week at an ATM machine located near the bank’s main branch. Over the past 2 years, the average withdrawal amount has been $50 with a standard deviation of $40. Since audit investigations are typically expensive, the auditors decide to not initiate further investigations if the mean transaction amount of the sample is between $45 and $55. What is the probability that in any given week, there will be an investigation?"
   ]
  },
  {
   "cell_type": "code",
   "execution_count": 26,
   "id": "cf7e1106",
   "metadata": {},
   "outputs": [
    {
     "data": {
      "text/plain": [
       "-1.25"
      ]
     },
     "execution_count": 26,
     "metadata": {},
     "output_type": "execute_result"
    }
   ],
   "source": [
    "z=(45-50)/(40/100**0.5)\n",
    "z"
   ]
  },
  {
   "cell_type": "code",
   "execution_count": 27,
   "id": "5de6055b",
   "metadata": {},
   "outputs": [
    {
     "data": {
      "text/plain": [
       "1.25"
      ]
     },
     "execution_count": 27,
     "metadata": {},
     "output_type": "execute_result"
    }
   ],
   "source": [
    "z_1=(55-50)/(40/100**0.5)\n",
    "z_1"
   ]
  },
  {
   "cell_type": "code",
   "execution_count": 28,
   "id": "62ec5c9a",
   "metadata": {},
   "outputs": [
    {
     "data": {
      "text/plain": [
       "0.7887004526662893"
      ]
     },
     "execution_count": 28,
     "metadata": {},
     "output_type": "execute_result"
    }
   ],
   "source": [
    "stats.norm.cdf(z_1)-stats.norm.cdf(z)"
   ]
  },
  {
   "cell_type": "code",
   "execution_count": 29,
   "id": "94a9349f",
   "metadata": {},
   "outputs": [
    {
     "data": {
      "text/plain": [
       "21.129954733371072"
      ]
     },
     "execution_count": 29,
     "metadata": {},
     "output_type": "execute_result"
    }
   ],
   "source": [
    "(1-0.7887004526662893)*100"
   ]
  },
  {
   "cell_type": "markdown",
   "id": "5d5492a7",
   "metadata": {},
   "source": [
    "4.\tThe auditors from the above example would like to maintain the probability of investigation to 5%. Which of the following represents the minimum number transactions that they should sample if they do not want to change the thresholds of 45 and 55? Assume that the sample statistics remain unchanged."
   ]
  },
  {
   "cell_type": "markdown",
   "id": "6c367f46",
   "metadata": {},
   "source": [
    "For 5% , z = =+/-1.96"
   ]
  },
  {
   "cell_type": "code",
   "execution_count": 30,
   "id": "cf1658b1",
   "metadata": {},
   "outputs": [],
   "source": [
    "n = ((1.96*40)/5)**2 "
   ]
  },
  {
   "cell_type": "code",
   "execution_count": 31,
   "id": "444fbdfd",
   "metadata": {},
   "outputs": [
    {
     "name": "stdout",
     "output_type": "stream",
     "text": [
      "245.86240000000004\n"
     ]
    }
   ],
   "source": [
    "print(n)"
   ]
  },
  {
   "cell_type": "code",
   "execution_count": null,
   "id": "d9976468",
   "metadata": {},
   "outputs": [],
   "source": []
  }
 ],
 "metadata": {
  "kernelspec": {
   "display_name": "Python 3 (ipykernel)",
   "language": "python",
   "name": "python3"
  },
  "language_info": {
   "codemirror_mode": {
    "name": "ipython",
    "version": 3
   },
   "file_extension": ".py",
   "mimetype": "text/x-python",
   "name": "python",
   "nbconvert_exporter": "python",
   "pygments_lexer": "ipython3",
   "version": "3.9.13"
  }
 },
 "nbformat": 4,
 "nbformat_minor": 5
}
